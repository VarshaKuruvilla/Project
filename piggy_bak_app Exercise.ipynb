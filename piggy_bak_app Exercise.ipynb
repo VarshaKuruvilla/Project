{
 "cells": [
  {
   "cell_type": "markdown",
   "metadata": {},
   "source": [
    "## Piggy Bank Software\n",
    "\n",
    "We should create a piigy bank application for school children to teach them importance of savings.\n",
    "They should have the option to :\n",
    "\n",
    "* Add modeny \n",
    "* withdraw money\n",
    "* Check the current amount in the piggy bank"
   ]
  },
  {
   "cell_type": "code",
   "execution_count": null,
   "metadata": {},
   "outputs": [
    {
     "name": "stdout",
     "output_type": "stream",
     "text": [
      " \n",
      "--------------------Start-------------------\n",
      " \n",
      "Start or End : Start\n",
      "Add , Withdraw or Check : Add\n",
      " \n",
      "Add amount : 1000\n",
      " \n",
      "After adding , your updated balance is 1000.0 rupees\n",
      "None\n",
      " \n",
      "Start or End : Start\n",
      "Add , Withdraw or Check : Withdraw\n",
      " \n",
      "withdraw amount : 300\n",
      " \n",
      "After withdrawing , balance amount is  700.0 rupees\n",
      "None\n",
      " \n",
      "Start or End : Start'\n",
      " \n",
      "Start or End : Start\n",
      "Add , Withdraw or Check : Check\n",
      " \n",
      "Your current balance is 700.0 rupees\n",
      "None\n",
      " \n"
     ]
    }
   ],
   "source": [
    "import piggy_bank"
   ]
  },
  {
   "cell_type": "markdown",
   "metadata": {},
   "source": [
    "## Assignment \n",
    "\n",
    "Develope an piggy bank application, which will work as per above instruction.\n"
   ]
  },
  {
   "cell_type": "code",
   "execution_count": 1,
   "metadata": {},
   "outputs": [],
   "source": [
    "class piggy_bank:\n",
    "    def __init__(self):\n",
    "        print(\"-\"*20 + \"Start\" + \"-\"*20)\n",
    "        self.balance = 0\n",
    "        self.startOrEnd()\n",
    "        \n",
    "    def startOrEnd(self):\n",
    "        selectedVal = str(input('\\nStart or End : '))\n",
    "        if selectedVal.lower() == \"start\":\n",
    "            self.addWithDrawOrCheck()\n",
    "        elif selectedVal.lower() == \"end\":\n",
    "            self.doNothin()\n",
    "        else:\n",
    "            print('Please enter a valid value.')\n",
    "            \n",
    "    def addWithDrawOrCheck(self):\n",
    "        val = str(input('\\nAdd, Withdraw or Check : '))\n",
    "        if val.lower() == 'add':\n",
    "            addAmount = float(input('\\nAdd amount : '))\n",
    "            self.balance = self.balance + addAmount\n",
    "            print('\\nAfter adding, your updated balance is %d rupees' % self.balance)\n",
    "            print('None')\n",
    "            self.startOrEnd()\n",
    "        elif val.lower() == 'withdraw':\n",
    "            withDrawAmt = float(input('\\nwithdraw amount : '))\n",
    "            if withDrawAmt > self.balance:\n",
    "                print('\\n Not enough balance available.')\n",
    "            else :\n",
    "                self.balance = self.balance - withDrawAmt\n",
    "                print('\\nAfter withdrawing , balance amount is  %d rupees' % self.balance)\n",
    "                print('None')\n",
    "            self.startOrEnd()\n",
    "        elif val.lower() == 'check':\n",
    "            print('\\nYour current balance is %d rupees' % self.balance)\n",
    "            print(\"None\")\n",
    "            self.startOrEnd()\n",
    "        else:\n",
    "            print('Please enter valid value')\n",
    "            self.startOrEnd()\n",
    "\n",
    "    def doNothin(self):\n",
    "        print('Closed')"
   ]
  },
  {
   "cell_type": "code",
   "execution_count": 2,
   "metadata": {},
   "outputs": [
    {
     "name": "stdout",
     "output_type": "stream",
     "text": [
      "--------------------Start--------------------\n",
      "\n",
      "Start or End : start\n",
      "\n",
      "Add, Withdraw or Check : add\n",
      "\n",
      "Add amount : 500\n",
      "\n",
      "After adding, your updated balance is 500 rupees\n",
      "None\n",
      "\n",
      "Start or End : start\n",
      "\n",
      "Add, Withdraw or Check : withdraw\n",
      "\n",
      "withdraw amount : 400\n",
      "\n",
      "After withdrawing , balance amount is  100 rupees\n",
      "None\n",
      "\n",
      "Start or End : start\n",
      "\n",
      "Add, Withdraw or Check : check\n",
      "\n",
      "Your current balance is 100 rupees\n",
      "None\n",
      "\n",
      "Start or End : end\n",
      "Closed\n"
     ]
    },
    {
     "data": {
      "text/plain": [
       "<__main__.piggy_bank at 0x27f49f0cb70>"
      ]
     },
     "execution_count": 2,
     "metadata": {},
     "output_type": "execute_result"
    }
   ],
   "source": [
    "piggy_bank()"
   ]
  },
  {
   "cell_type": "code",
   "execution_count": null,
   "metadata": {},
   "outputs": [],
   "source": []
  }
 ],
 "metadata": {
  "kernelspec": {
   "display_name": "Python 3",
   "language": "python",
   "name": "python3"
  },
  "language_info": {
   "codemirror_mode": {
    "name": "ipython",
    "version": 3
   },
   "file_extension": ".py",
   "mimetype": "text/x-python",
   "name": "python",
   "nbconvert_exporter": "python",
   "pygments_lexer": "ipython3",
   "version": "3.7.3"
  }
 },
 "nbformat": 4,
 "nbformat_minor": 2
}
