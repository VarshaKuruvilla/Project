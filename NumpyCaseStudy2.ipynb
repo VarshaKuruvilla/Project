{
 "cells": [
  {
   "cell_type": "markdown",
   "metadata": {},
   "source": [
    "# This case study consists of 1000 marks and the solution file is expected to be submitted in the upcoming session for evaluation."
   ]
  },
  {
   "cell_type": "code",
   "execution_count": 1,
   "metadata": {},
   "outputs": [],
   "source": [
    "import numpy as np"
   ]
  },
  {
   "cell_type": "markdown",
   "metadata": {},
   "source": [
    "### 1.Create two matrices of 3*3 and perform the arithmatic operations metioned in below \"print\" statements"
   ]
  },
  {
   "cell_type": "code",
   "execution_count": 20,
   "metadata": {},
   "outputs": [
    {
     "name": "stdout",
     "output_type": "stream",
     "text": [
      "\n",
      "1st Matrix of random single-digit numbers\n",
      "----------------------------------------\n",
      " [[0 1 2]\n",
      " [3 4 5]\n",
      " [6 7 8]]\n",
      "\n",
      "2nd Matrix of random single-digit numbers\n",
      "----------------------------------------\n",
      " [[ 9 10 11]\n",
      " [12 13 14]\n",
      " [15 16 17]]\n",
      "\n",
      "Addition\n",
      "------------------\n",
      " [[ 9 11 13]\n",
      " [15 17 19]\n",
      " [21 23 25]]\n",
      "\n",
      "Multiplication\n",
      "------------------\n",
      " [[  0  10  22]\n",
      " [ 36  52  70]\n",
      " [ 90 112 136]]\n",
      "\n",
      "Division\n",
      "------------------\n",
      " [[0.         0.1        0.18181818]\n",
      " [0.25       0.30769231 0.35714286]\n",
      " [0.4        0.4375     0.47058824]]\n",
      "\n",
      "Linear combination: 3*A - 2*B\n",
      "-----------------------------\n",
      " [[-18 -17 -16]\n",
      " [-15 -14 -13]\n",
      " [-12 -11 -10]]\n",
      "\n",
      "Addition of a scalar (100)\n",
      "-------------------------\n",
      " [[100 101 102]\n",
      " [103 104 105]\n",
      " [106 107 108]]\n",
      "\n",
      "Exponentiation, matrix cubed here\n",
      "----------------------------------------\n",
      " [[  0   1   8]\n",
      " [ 27  64 125]\n",
      " [216 343 512]]\n",
      "\n",
      "Exponentiation, mat1 sq-root using pow function\n",
      "-------------------------------------------\n",
      " [[0.         1.         1.41421356]\n",
      " [1.73205081 2.         2.23606798]\n",
      " [2.44948974 2.64575131 2.82842712]]\n"
     ]
    }
   ],
   "source": [
    "mat1 = np.arange(9).reshape(3,3)\n",
    "mat2 = np.arange(9,18).reshape(3,3)\n",
    "print(\"\\n1st Matrix of random single-digit numbers\\n----------------------------------------\\n\",mat1)\n",
    "print(\"\\n2nd Matrix of random single-digit numbers\\n----------------------------------------\\n\",mat2)\n",
    "\n",
    "\n",
    "print(\"\\nAddition\\n------------------\\n\", mat1+mat2)\n",
    "print(\"\\nMultiplication\\n------------------\\n\", mat1*mat2)\n",
    "\n",
    "\n",
    "print(\"\\nDivision\\n------------------\\n\", mat1/mat2)\n",
    "print(\"\\nLinear combination: 3*A - 2*B\\n-----------------------------\\n\", 3*mat1 - 2*mat2)\n",
    "\n",
    "\n",
    "print(\"\\nAddition of a scalar (100)\\n-------------------------\\n\", mat1+100)\n",
    "\n",
    "\n",
    "print(\"\\nExponentiation, matrix cubed here\\n----------------------------------------\\n\", mat1**3)\n",
    "print(\"\\nExponentiation, mat1 sq-root using pow function\\n-------------------------------------------\\n\",np.sqrt(mat1))"
   ]
  },
  {
   "cell_type": "markdown",
   "metadata": {},
   "source": [
    "Some operations, such as += and *=, act in place to modify an existing array rather than create a new one."
   ]
  },
  {
   "cell_type": "markdown",
   "metadata": {},
   "source": [
    "NumPy provides familiar mathematical functions such as sin, cos, and exp. In NumPy, these are called “universal functions”(ufunc). Within NumPy, these functions operate elementwise on an array, producing an array as output."
   ]
  },
  {
   "cell_type": "markdown",
   "metadata": {},
   "source": [
    "### 2.Create two 3 * 3 matrices and perform the following operations as describe in print statement."
   ]
  },
  {
   "cell_type": "code",
   "execution_count": 21,
   "metadata": {},
   "outputs": [],
   "source": [
    "from numpy.random import randint as ri"
   ]
  },
  {
   "cell_type": "code",
   "execution_count": 43,
   "metadata": {
    "scrolled": true
   },
   "outputs": [
    {
     "name": "stdout",
     "output_type": "stream",
     "text": [
      "\n",
      "1st Matrix of random single-digit numbers\n",
      " -------------------------------------------------- \n",
      " [[13 15 38]\n",
      " [31 26 13]\n",
      " [19 91 90]]\n",
      "\n",
      "2nd Matrix of random single-digit numbers\n",
      " -------------------------------------------------- \n",
      " [[ 6 60 50]\n",
      " [17 64 83]\n",
      " [79 18 16]]\n",
      "\n",
      "Sum of all numbers in 1st matrix\n",
      " -------------------------------------------------- \n",
      " 336\n",
      "\n",
      "Sum of all numbers in columns of 1st matrix\n",
      " -------------------------------------------------- \n",
      " [[ 63 132 141]]\n",
      "\n",
      "Sum of all numbers in rows of 1st matrix\n",
      " -------------------------------------------------- \n",
      " [[ 66]\n",
      " [ 70]\n",
      " [200]]\n",
      "\n",
      "Product of all numbers in rows of 1st matrix\n",
      " -------------------------------------------------- \n",
      " [[  7410]\n",
      " [ 10478]\n",
      " [155610]]\n",
      "\n",
      "Product of all numbers in columns of 2nd matrix\n",
      " -------------------------------------------------- \n",
      " [[ 8058 69120 66400]]\n",
      "\n",
      "Mean of all numbers in 1st matrix\n",
      " -------------------------------------------------- \n",
      " 37.333333333333336\n",
      "\n",
      "Standard deviation of all numbers in 1st matrix\n",
      " -------------------------------------------------- \n",
      " 29.518355871107275\n",
      "\n",
      "Modified matrix of random numbers from 1 to 99\n",
      " -------------------------------------------------- \n",
      " [[46 48 20]\n",
      " [50 29 64]\n",
      " [95 76 62]]\n",
      "\n",
      "Standard deviation of all numbers in the modified matrix, a larger number\n",
      " -------------------------------------------------------------------------------- \n",
      " 21.664672272881447\n",
      "\n",
      "Variance of all numbers in the modified matrix, a larger number\n",
      " -------------------------------------------------------------------------------- \n",
      " 469.3580246913581\n",
      "\n",
      "Median of all numbers in the modified matrix\n",
      " ------------------------------------------------------------ \n",
      " [[20. 29. 46. 48. 50. 62. 95. 76. 64.]]\n"
     ]
    }
   ],
   "source": [
    "from numpy.random import randint as ri\n",
    "mat1 = np.matrix(ri(1,100,(3,3)))\n",
    "mat2 = np.matrix(ri(1,100,(3,3)))\n",
    "print(\"\\n1st Matrix of random single-digit numbers\\n\",\"-\"*50,\"\\n\",mat1)\n",
    "print(\"\\n2nd Matrix of random single-digit numbers\\n\",\"-\"*50,\"\\n\",mat2)\n",
    "\n",
    "\n",
    "print(\"\\nSum of all numbers in 1st matrix\\n\",\"-\"*50,\"\\n\",np.sum(mat1))\n",
    "print(\"\\nSum of all numbers in columns of 1st matrix\\n\",\"-\"*50,\"\\n\",mat1.sum(axis=0))\n",
    "\n",
    "\n",
    "print(\"\\nSum of all numbers in rows of 1st matrix\\n\",\"-\"*50,\"\\n\",mat1.sum(axis=1))\n",
    "print(\"\\nProduct of all numbers in rows of 1st matrix\\n\",\"-\"*50,\"\\n\",mat1.prod(axis=1))\n",
    "\n",
    "\n",
    "print(\"\\nProduct of all numbers in columns of 2nd matrix\\n\",\"-\"*50,\"\\n\",mat2.prod(axis=0))\n",
    "print(\"\\nMean of all numbers in 1st matrix\\n\",\"-\"*50,\"\\n\",mat1.mean())\n",
    "\n",
    "\n",
    "print(\"\\nStandard deviation of all numbers in 1st matrix\\n\",\"-\"*50,\"\\n\",mat1.std())\n",
    "\n",
    "\n",
    "mat1 = np.matrix(ri(1,99,(3,3)))\n",
    "print(\"\\nModified matrix of random numbers from 1 to 99\\n\",\"-\"*50,\"\\n\",mat1)\n",
    "\n",
    "\n",
    "print(\"\\nStandard deviation of all numbers in the modified matrix, a larger number\\n\",\"-\"*80,\"\\n\",mat1.std())\n",
    "\n",
    "\n",
    "print(\"\\nVariance of all numbers in the modified matrix, a larger number\\n\",\"-\"*80,\"\\n\",mat1.var())\n",
    "\n",
    "\n",
    "print(\"\\nMedian of all numbers in the modified matrix\\n\",\"-\"*60,\"\\n\",np.median(mat1))\n"
   ]
  },
  {
   "cell_type": "markdown",
   "metadata": {},
   "source": [
    "###  3.Create a 3 \\* 3 Matrix and Modify its shape to 9\\*1 matrix."
   ]
  },
  {
   "cell_type": "code",
   "execution_count": 54,
   "metadata": {},
   "outputs": [
    {
     "name": "stdout",
     "output_type": "stream",
     "text": [
      "\n",
      "1st Matrix of shape 3*3 \n",
      " -------------------------------------------------- \n",
      " [[39 69 41]\n",
      " [ 1 67 98]\n",
      " [41 44 33]]\n",
      "\n",
      "1st Modified matrix to shape 9*1 \n",
      " -------------------------------------------------- \n",
      " [[39]\n",
      " [69]\n",
      " [41]\n",
      " [ 1]\n",
      " [67]\n",
      " [98]\n",
      " [41]\n",
      " [44]\n",
      " [33]]\n"
     ]
    }
   ],
   "source": [
    "##Solution\n",
    "mat1 = np.matrix(ri(1,100,(3,3)))\n",
    "print(\"\\n1st Matrix of shape 3*3 \\n\",\"-\"*50,\"\\n\",mat1)\n",
    "\n",
    "print(\"\\n1st Modified matrix to shape 9*1 \\n\",\"-\"*50,\"\\n\",mat1.reshape(9,1))"
   ]
  },
  {
   "cell_type": "markdown",
   "metadata": {},
   "source": [
    "### 4.Sort"
   ]
  },
  {
   "cell_type": "code",
   "execution_count": 60,
   "metadata": {},
   "outputs": [
    {
     "name": "stdout",
     "output_type": "stream",
     "text": [
      "\n",
      "Vector of 10 random integers from 1 to 100\n",
      " -------------------------------------------------- \n",
      " [92  5 73 56 66]\n",
      "\n",
      "Here is the sorted vector\n",
      " -------------------------------------------------- \n",
      " [ 5 56 66 73 92]\n"
     ]
    }
   ],
   "source": [
    "A = ri(1,100,5) # Vector of random interegrs\n",
    "print(\"\\nVector of 10 random integers from 1 to 100\\n\",'-'*50,\"\\n\",A)\n",
    "print(\"\\nHere is the sorted vector\\n\",'-'*50,\"\\n\",np.sort(A))\n"
   ]
  },
  {
   "cell_type": "code",
   "execution_count": 84,
   "metadata": {},
   "outputs": [
    {
     "name": "stdout",
     "output_type": "stream",
     "text": [
      "\n",
      "5x5 Matrix of random integers\n",
      " -------------------------------------------------- \n",
      " [[56 63 62 39 64]\n",
      " [24 24  7 34  1]\n",
      " [73 30 15 15 37]\n",
      " [62 65 17 54 68]\n",
      " [93 62 57 87 78]]\n",
      "\n",
      "Here is the sorted matrix along each row\n",
      " -------------------------------------------------- \n",
      " [[39 56 62 63 64]\n",
      " [ 1  7 24 24 34]\n",
      " [15 15 30 37 73]\n",
      " [17 54 62 65 68]\n",
      " [57 62 78 87 93]]\n",
      "\n",
      "Here is the sorted matrix along each column\n",
      " -------------------------------------------------- \n",
      " [[24 24  7 15  1]\n",
      " [56 30 15 34 37]\n",
      " [62 62 17 39 64]\n",
      " [73 63 57 54 68]\n",
      " [93 65 62 87 78]]\n"
     ]
    }
   ],
   "source": [
    "M = ri(1,100,(5,5)) #  5*5 Matrix of random interegrs\n",
    "print(\"\\n5x5 Matrix of random integers\\n\",'-'*50,\"\\n\",M)\n",
    "print(\"\\nHere is the sorted matrix along each row\\n\",'-'*50,\"\\n\", np.sort(M, axis=1)) # Default axis =1\n",
    "print(\"\\nHere is the sorted matrix along each column\\n\",'-'*50,\"\\n\", np.sort(M, axis=0))"
   ]
  },
  {
   "cell_type": "markdown",
   "metadata": {},
   "source": [
    "### 5.Create a,b,c  10 element vectors of random integers and perform the respective operation mentioned in print statement"
   ]
  },
  {
   "cell_type": "code",
   "execution_count": 90,
   "metadata": {},
   "outputs": [
    {
     "name": "stdout",
     "output_type": "stream",
     "text": [
      "a: [8 6 8 9 5]\n",
      "b: [14 16 19 14 17]\n",
      "c: [26 26 22 21 21]\n",
      "Max of a: 9\n",
      "Max of b: 19\n",
      "Max of a location: 3\n",
      "Max of b location: 2\n",
      "Max of c location: 0\n",
      "Max of a: 9\n",
      "Max of b: 19\n",
      "Max of a location: 3\n",
      "Max of b location: 2\n",
      "Max of c location: 0\n"
     ]
    }
   ],
   "source": [
    "# Fill the following ***** with appropriate solution.\n",
    "a=ri(1,10,5)\n",
    "b=ri(11,20,5)\n",
    "c=ri(21,30,5)\n",
    "\n",
    "print(\"a:\", a)\n",
    "print(\"b:\", b)\n",
    "print(\"c:\", c)\n",
    "\n",
    "print(\"Max of a:\", np.max(a))\n",
    "print(\"Max of b:\",np.max(b))\n",
    "\n",
    "\n",
    "print(\"Max of a location:\", np.argmax(a))\n",
    "print(\"Max of b location:\", np.argmax(b))\n",
    "print(\"Max of c location:\", np.argmax(c))\n",
    "\n",
    "print(\"Max of a:\", np.max(a))\n",
    "print(\"Max of b:\", np.max(b))\n",
    "\n",
    "\n",
    "print(\"Max of a location:\", np.argmax(a))\n",
    "print(\"Max of b location:\", np.argmax(b))\n",
    "print(\"Max of c location:\", np.argmax(c))\n",
    "\n"
   ]
  },
  {
   "cell_type": "markdown",
   "metadata": {},
   "source": [
    "## Universal functions\n",
    "\n",
    "6. Create 3*3 matrices of random single-digit numbers.<br/>\n",
    "Apply universal functions on it. (square root,exponetial,log10,Modulo etc.)"
   ]
  },
  {
   "cell_type": "code",
   "execution_count": 97,
   "metadata": {},
   "outputs": [
    {
     "name": "stdout",
     "output_type": "stream",
     "text": [
      "\n",
      "1st Matrix of random single-digit numbers\n",
      "----------------------------------------\n",
      " [[3 1 6]\n",
      " [6 6 8]\n",
      " [7 7 4]]\n",
      "\n",
      "2nd Matrix of random single-digit numbers\n",
      "----------------------------------------\n",
      " [[19 11 16]\n",
      " [17 11 15]\n",
      " [14 13 15]]\n",
      "\n",
      "Sq-root of 1st matrix using np\n",
      "------------------\n",
      " [[1.73205081 1.         2.44948974]\n",
      " [2.44948974 2.44948974 2.82842712]\n",
      " [2.64575131 2.64575131 2.        ]]\n",
      "\n",
      "Exponential power of 1st matrix using np\n",
      " -------------------------------------------------- \n",
      " [[ 9  1 36]\n",
      " [36 36 64]\n",
      " [49 49 16]]\n",
      "\n",
      "10-base logarithm on 1st matrix using np\n",
      " -------------------------------------------------- \n",
      " [[0.47712125 0.         0.77815125]\n",
      " [0.77815125 0.77815125 0.90308999]\n",
      " [0.84509804 0.84509804 0.60205999]]\n",
      "\n",
      "Modulo reminder using np\n",
      " -------------------------------------------------- \n",
      " [[1 0 4]\n",
      " [5 5 7]\n",
      " [0 6 3]]\n"
     ]
    }
   ],
   "source": [
    "\n",
    "mat1 = np.matrix(ri(1,10,(3,3)))\n",
    "mat2 = np.matrix(ri(11,20,(3,3)))\n",
    "print(\"\\n1st Matrix of random single-digit numbers\\n----------------------------------------\\n\",mat1)\n",
    "print(\"\\n2nd Matrix of random single-digit numbers\\n----------------------------------------\\n\",mat2)\n",
    "\n",
    "\n",
    "print(\"\\nSq-root of 1st matrix using np\\n------------------\\n\", np.sqrt(mat1))\n",
    "\n",
    "\n",
    "print(\"\\nExponential power of 1st matrix using np\\n\",'-'*50,\"\\n\", np.power(mat1,2))\n",
    "\n",
    "\n",
    "print(\"\\n10-base logarithm on 1st matrix using np\\n\",'-'*50,\"\\n\", np.log10(mat1))\n",
    "\n",
    "\n",
    "print(\"\\nModulo reminder using np\\n\",'-'*50,\"\\n\", np.mod(mat2,mat1))\n"
   ]
  },
  {
   "cell_type": "markdown",
   "metadata": {},
   "source": [
    "### 7.Generating matrices from distributions"
   ]
  },
  {
   "cell_type": "code",
   "execution_count": 98,
   "metadata": {},
   "outputs": [
    {
     "data": {
      "text/plain": [
       "array([[0.13355567, 0.87815704, 0.02145331],\n",
       "       [0.07071353, 0.49342789, 0.37242453]])"
      ]
     },
     "execution_count": 98,
     "metadata": {},
     "output_type": "execute_result"
    }
   ],
   "source": [
    "np.random.uniform(0,1,(2,3))"
   ]
  },
  {
   "cell_type": "code",
   "execution_count": 108,
   "metadata": {},
   "outputs": [
    {
     "data": {
      "text/plain": [
       "array([[4, 5, 1, 3, 3, 4]])"
      ]
     },
     "execution_count": 108,
     "metadata": {},
     "output_type": "execute_result"
    }
   ],
   "source": [
    "np.random.multinomial(20, [1/6.]*6, size=1)"
   ]
  },
  {
   "cell_type": "code",
   "execution_count": 110,
   "metadata": {},
   "outputs": [
    {
     "name": "stdout",
     "output_type": "stream",
     "text": [
      "\n",
      "Random number generation (from Uniform distribution)\n",
      "\n",
      "[[0.45241205 0.59092369 0.04372337]\n",
      " [0.12995701 0.08004857 0.80575622]]\n",
      "\n",
      "Numbers from Normal distribution with zero mean and standard deviation 1 i.e. standard normal\n",
      "\n",
      "[ 1.53327573 -0.4195154   0.42082301  0.7323684 ]\n",
      "\n",
      "Random integer vector: [19  6  4 16 59 38 49 66 42 22]\n",
      "\n",
      "Random integer matrix\n",
      "[[43 69 76  9]\n",
      " [25 19 31 65]]\n",
      "\n",
      "20 samples drawn from a dice throw: [[3 5 3 5 1 3]]\n"
     ]
    }
   ],
   "source": [
    "\n",
    "print(\"\\nRandom number generation (from Uniform distribution)\\n\")\n",
    "print(np.random.uniform(0,1,(2,3))) # 2 by 3 matrix with random numbers ranging from 0 to 1, Note no Tuple is necessary \n",
    "\n",
    "print(\"\\nNumbers from Normal distribution with zero mean and standard deviation 1 i.e. standard normal\\n\")\n",
    "print(np.random.standard_normal(4))\n",
    "\n",
    "print(\"\\nRandom integer vector:\",np.random.randint(1,100,10)) #randint (low, high, # of samples to be drawn)\n",
    "print (\"\\nRandom integer matrix\")\n",
    "print(np.random.randint(1,100,(2,4))) #randint (low, high, # of samples to be drawn in a tuple to form a matrix)\n",
    "\n",
    "print(\"\\n20 samples drawn from a dice throw:\",np.random.multinomial(20, [1/6.]*6, size=1)) # 20 samples drawn from a dice throw"
   ]
  },
  {
   "cell_type": "markdown",
   "metadata": {},
   "source": [
    "### 8.Find the nearest value from a given number in an array using NumPy."
   ]
  },
  {
   "cell_type": "code",
   "execution_count": 21,
   "metadata": {},
   "outputs": [
    {
     "name": "stdout",
     "output_type": "stream",
     "text": [
      "4.859577122593637\n"
     ]
    }
   ],
   "source": [
    "#Steps\n",
    "#Create an array of 5 random element from 1 to 12\n",
    "#Suppose find the nearest values of 10 in an array so set value=10\n",
    "#find the index where difference is minimum and get the element"
   ]
  },
  {
   "cell_type": "code",
   "execution_count": 138,
   "metadata": {},
   "outputs": [
    {
     "name": "stdout",
     "output_type": "stream",
     "text": [
      "[9 4 4 2 7]\n",
      "[1 6 6 8 3]\n",
      "\n",
      " Index where difference is minimum 0\n",
      "\n",
      " Element where difference is minimum 9\n"
     ]
    }
   ],
   "source": [
    "arr = ri(1,12,5)\n",
    "print(arr)\n",
    "res = 10-arr\n",
    "print(res)\n",
    "print(\"\\n Index where difference is minimum\", res.argmin())\n",
    "print(\"\\n Element where difference is minimum\", arr[res.argmin()])"
   ]
  },
  {
   "cell_type": "markdown",
   "metadata": {},
   "source": [
    "### 9.Write code using numpy to produce following output\n",
    "[[0 0 0] [0 1 2] [0 2 4]]"
   ]
  },
  {
   "cell_type": "code",
   "execution_count": 139,
   "metadata": {},
   "outputs": [
    {
     "data": {
      "text/plain": [
       "matrix([[0, 0, 0],\n",
       "        [0, 1, 2],\n",
       "        [0, 2, 4]])"
      ]
     },
     "execution_count": 139,
     "metadata": {},
     "output_type": "execute_result"
    }
   ],
   "source": [
    "mat = np.matrix('0 0 0; 0 1 2; 0 2 4')\n",
    "mat"
   ]
  }
 ],
 "metadata": {
  "kernelspec": {
   "display_name": "Python 3",
   "language": "python",
   "name": "python3"
  },
  "language_info": {
   "codemirror_mode": {
    "name": "ipython",
    "version": 3
   },
   "file_extension": ".py",
   "mimetype": "text/x-python",
   "name": "python",
   "nbconvert_exporter": "python",
   "pygments_lexer": "ipython3",
   "version": "3.7.3"
  }
 },
 "nbformat": 4,
 "nbformat_minor": 2
}
