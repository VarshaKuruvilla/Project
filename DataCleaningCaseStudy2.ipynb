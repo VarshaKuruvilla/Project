{
 "cells": [
  {
   "cell_type": "markdown",
   "metadata": {},
   "source": [
    "# This case study consists of 1000 marks and the solution file is expected to be submitted in the upcoming session for evaluation."
   ]
  },
  {
   "cell_type": "markdown",
   "metadata": {},
   "source": [
    "# Combining Datasets: Merge and Join"
   ]
  },
  {
   "cell_type": "markdown",
   "metadata": {},
   "source": [
    "One essential feature offered by Pandas is its high-performance, in-memory join and merge operations.\n",
    "If you have ever worked with databases, you should be familiar with this type of data interaction.\n",
    "The main interface for this is the ``pd.merge`` function, and we'll see few examples of how this can work in practice.\n",
    "\n",
    "For convenience, we will start by redefining the ``display()`` functionality from the previous section:"
   ]
  },
  {
   "cell_type": "code",
   "execution_count": 2,
   "metadata": {},
   "outputs": [],
   "source": [
    "import pandas as pd\n",
    "import numpy as np\n"
   ]
  },
  {
   "cell_type": "markdown",
   "metadata": {},
   "source": [
    "## Specification of the Merge Key"
   ]
  },
  {
   "cell_type": "markdown",
   "metadata": {},
   "source": [
    "We've already seen the default behavior of ``pd.merge()``: it looks for one or more matching column names between the two inputs, and uses this as the key.\n",
    "However, often the column names will not match so nicely, and ``pd.merge()`` provides a variety of options for handling this."
   ]
  },
  {
   "cell_type": "markdown",
   "metadata": {},
   "source": [
    "## Example: US States Data\n",
    "\n",
    "Merge and join operations come up most often when combining data from different sources.\n",
    "Here we will consider an example of some data about US states and their populations.\n",
    "The data files can be found at http://github.com/jakevdp/data-USstates/:"
   ]
  },
  {
   "cell_type": "code",
   "execution_count": 2,
   "metadata": {},
   "outputs": [
    {
     "name": "stderr",
     "output_type": "stream",
     "text": [
      "The filename, directory name, or volume label syntax is incorrect.\n",
      "The filename, directory name, or volume label syntax is incorrect.\n",
      "The filename, directory name, or volume label syntax is incorrect.\n"
     ]
    }
   ],
   "source": [
    "# Following are shell commands to download the data\n",
    "! mkdir -p data\n",
    "!cd data ; curl -O  https://raw.githubusercontent.com/jakevdp/data-USstates/master/state-population.csv ; cd ..\n",
    "!cd data ; curl -O https://raw.githubusercontent.com/jakevdp/data-USstates/master/state-areas.csv ; cd ..\n",
    "!cd data ; curl -O https://raw.githubusercontent.com/jakevdp/data-USstates/master/state-abbrevs.csv ; cd .."
   ]
  },
  {
   "cell_type": "code",
   "execution_count": 3,
   "metadata": {},
   "outputs": [
    {
     "name": "stderr",
     "output_type": "stream",
     "text": [
      "'ls' is not recognized as an internal or external command,\n",
      "operable program or batch file.\n"
     ]
    }
   ],
   "source": [
    "!ls"
   ]
  },
  {
   "cell_type": "markdown",
   "metadata": {},
   "source": [
    "Let's take a look at the three datasets, using the Pandas ``read_csv()`` function:"
   ]
  },
  {
   "cell_type": "code",
   "execution_count": 4,
   "metadata": {},
   "outputs": [],
   "source": [
    "pop = pd.read_csv('https://raw.githubusercontent.com/jakevdp/data-USstates/master/state-population.csv')\n",
    "areas = pd.read_csv('https://raw.githubusercontent.com/jakevdp/data-USstates/master/state-areas.csv')\n",
    "abbrevs = pd.read_csv('https://raw.githubusercontent.com/jakevdp/data-USstates/master/state-abbrevs.csv')\n",
    "\n"
   ]
  },
  {
   "cell_type": "markdown",
   "metadata": {},
   "source": [
    "Given this information, say we want to compute a relatively straightforward result: rank US states and territories by their 2010 population density.\n",
    "We clearly have the data here to find this result, but we'll have to combine the datasets to find the result.\n",
    "\n",
    "We'll start with a many-to-one merge that will give us the full state name within the population ``DataFrame``.\n",
    "We want to merge based on the ``state/region``  column of ``pop``, and the ``abbreviation`` column of ``abbrevs``.\n",
    "We'll use ``how='outer'`` to make sure no data is thrown away due to mismatched labels."
   ]
  },
  {
   "cell_type": "markdown",
   "metadata": {},
   "source": [
    "## Merge the 2 dataframes, pop and abbrevs such that all rows in both tables are included. Drop any duplicate column in the merged dataframe."
   ]
  },
  {
   "cell_type": "code",
   "execution_count": 5,
   "metadata": {},
   "outputs": [
    {
     "data": {
      "text/html": [
       "<div>\n",
       "<style scoped>\n",
       "    .dataframe tbody tr th:only-of-type {\n",
       "        vertical-align: middle;\n",
       "    }\n",
       "\n",
       "    .dataframe tbody tr th {\n",
       "        vertical-align: top;\n",
       "    }\n",
       "\n",
       "    .dataframe thead th {\n",
       "        text-align: right;\n",
       "    }\n",
       "</style>\n",
       "<table border=\"1\" class=\"dataframe\">\n",
       "  <thead>\n",
       "    <tr style=\"text-align: right;\">\n",
       "      <th></th>\n",
       "      <th>state/region</th>\n",
       "      <th>ages</th>\n",
       "      <th>year</th>\n",
       "      <th>population</th>\n",
       "    </tr>\n",
       "  </thead>\n",
       "  <tbody>\n",
       "    <tr>\n",
       "      <th>0</th>\n",
       "      <td>AL</td>\n",
       "      <td>under18</td>\n",
       "      <td>2012</td>\n",
       "      <td>1117489.0</td>\n",
       "    </tr>\n",
       "    <tr>\n",
       "      <th>1</th>\n",
       "      <td>AL</td>\n",
       "      <td>total</td>\n",
       "      <td>2012</td>\n",
       "      <td>4817528.0</td>\n",
       "    </tr>\n",
       "  </tbody>\n",
       "</table>\n",
       "</div>"
      ],
      "text/plain": [
       "  state/region     ages  year  population\n",
       "0           AL  under18  2012   1117489.0\n",
       "1           AL    total  2012   4817528.0"
      ]
     },
     "execution_count": 5,
     "metadata": {},
     "output_type": "execute_result"
    }
   ],
   "source": [
    "pop.head(2)"
   ]
  },
  {
   "cell_type": "code",
   "execution_count": 6,
   "metadata": {},
   "outputs": [
    {
     "data": {
      "text/html": [
       "<div>\n",
       "<style scoped>\n",
       "    .dataframe tbody tr th:only-of-type {\n",
       "        vertical-align: middle;\n",
       "    }\n",
       "\n",
       "    .dataframe tbody tr th {\n",
       "        vertical-align: top;\n",
       "    }\n",
       "\n",
       "    .dataframe thead th {\n",
       "        text-align: right;\n",
       "    }\n",
       "</style>\n",
       "<table border=\"1\" class=\"dataframe\">\n",
       "  <thead>\n",
       "    <tr style=\"text-align: right;\">\n",
       "      <th></th>\n",
       "      <th>state</th>\n",
       "      <th>abbreviation</th>\n",
       "    </tr>\n",
       "  </thead>\n",
       "  <tbody>\n",
       "    <tr>\n",
       "      <th>0</th>\n",
       "      <td>Alabama</td>\n",
       "      <td>AL</td>\n",
       "    </tr>\n",
       "    <tr>\n",
       "      <th>1</th>\n",
       "      <td>Alaska</td>\n",
       "      <td>AK</td>\n",
       "    </tr>\n",
       "  </tbody>\n",
       "</table>\n",
       "</div>"
      ],
      "text/plain": [
       "     state abbreviation\n",
       "0  Alabama           AL\n",
       "1   Alaska           AK"
      ]
     },
     "execution_count": 6,
     "metadata": {},
     "output_type": "execute_result"
    }
   ],
   "source": [
    "abbrevs.head(2)"
   ]
  },
  {
   "cell_type": "code",
   "execution_count": 32,
   "metadata": {},
   "outputs": [
    {
     "data": {
      "text/html": [
       "<div>\n",
       "<style scoped>\n",
       "    .dataframe tbody tr th:only-of-type {\n",
       "        vertical-align: middle;\n",
       "    }\n",
       "\n",
       "    .dataframe tbody tr th {\n",
       "        vertical-align: top;\n",
       "    }\n",
       "\n",
       "    .dataframe thead th {\n",
       "        text-align: right;\n",
       "    }\n",
       "</style>\n",
       "<table border=\"1\" class=\"dataframe\">\n",
       "  <thead>\n",
       "    <tr style=\"text-align: right;\">\n",
       "      <th></th>\n",
       "      <th>state</th>\n",
       "      <th>state/region</th>\n",
       "    </tr>\n",
       "  </thead>\n",
       "  <tbody>\n",
       "    <tr>\n",
       "      <th>0</th>\n",
       "      <td>Alabama</td>\n",
       "      <td>AL</td>\n",
       "    </tr>\n",
       "    <tr>\n",
       "      <th>1</th>\n",
       "      <td>Alaska</td>\n",
       "      <td>AK</td>\n",
       "    </tr>\n",
       "  </tbody>\n",
       "</table>\n",
       "</div>"
      ],
      "text/plain": [
       "     state state/region\n",
       "0  Alabama           AL\n",
       "1   Alaska           AK"
      ]
     },
     "execution_count": 32,
     "metadata": {},
     "output_type": "execute_result"
    }
   ],
   "source": [
    "abbrevs = abbrevs.rename(columns={'abbreviation':'state/region'})\n",
    "abbrevs.head(2)"
   ]
  },
  {
   "cell_type": "code",
   "execution_count": 35,
   "metadata": {},
   "outputs": [
    {
     "data": {
      "text/html": [
       "<div>\n",
       "<style scoped>\n",
       "    .dataframe tbody tr th:only-of-type {\n",
       "        vertical-align: middle;\n",
       "    }\n",
       "\n",
       "    .dataframe tbody tr th {\n",
       "        vertical-align: top;\n",
       "    }\n",
       "\n",
       "    .dataframe thead th {\n",
       "        text-align: right;\n",
       "    }\n",
       "</style>\n",
       "<table border=\"1\" class=\"dataframe\">\n",
       "  <thead>\n",
       "    <tr style=\"text-align: right;\">\n",
       "      <th></th>\n",
       "      <th>state/region</th>\n",
       "      <th>ages</th>\n",
       "      <th>year</th>\n",
       "      <th>population</th>\n",
       "      <th>state</th>\n",
       "    </tr>\n",
       "  </thead>\n",
       "  <tbody>\n",
       "    <tr>\n",
       "      <th>0</th>\n",
       "      <td>AL</td>\n",
       "      <td>under18</td>\n",
       "      <td>2012</td>\n",
       "      <td>1117489.0</td>\n",
       "      <td>Alabama</td>\n",
       "    </tr>\n",
       "    <tr>\n",
       "      <th>1</th>\n",
       "      <td>AL</td>\n",
       "      <td>total</td>\n",
       "      <td>2012</td>\n",
       "      <td>4817528.0</td>\n",
       "      <td>Alabama</td>\n",
       "    </tr>\n",
       "    <tr>\n",
       "      <th>2</th>\n",
       "      <td>AL</td>\n",
       "      <td>under18</td>\n",
       "      <td>2010</td>\n",
       "      <td>1130966.0</td>\n",
       "      <td>Alabama</td>\n",
       "    </tr>\n",
       "    <tr>\n",
       "      <th>3</th>\n",
       "      <td>AL</td>\n",
       "      <td>total</td>\n",
       "      <td>2010</td>\n",
       "      <td>4785570.0</td>\n",
       "      <td>Alabama</td>\n",
       "    </tr>\n",
       "    <tr>\n",
       "      <th>4</th>\n",
       "      <td>AL</td>\n",
       "      <td>under18</td>\n",
       "      <td>2011</td>\n",
       "      <td>1125763.0</td>\n",
       "      <td>Alabama</td>\n",
       "    </tr>\n",
       "  </tbody>\n",
       "</table>\n",
       "</div>"
      ],
      "text/plain": [
       "  state/region     ages  year  population    state\n",
       "0           AL  under18  2012   1117489.0  Alabama\n",
       "1           AL    total  2012   4817528.0  Alabama\n",
       "2           AL  under18  2010   1130966.0  Alabama\n",
       "3           AL    total  2010   4785570.0  Alabama\n",
       "4           AL  under18  2011   1125763.0  Alabama"
      ]
     },
     "execution_count": 35,
     "metadata": {},
     "output_type": "execute_result"
    }
   ],
   "source": [
    "merged = pd.merge(pop,abbrevs,on=\"state/region\",how=\"outer\")\n",
    "merged.head()"
   ]
  },
  {
   "cell_type": "markdown",
   "metadata": {},
   "source": [
    "Let's double-check whether there were any mismatches here, which we can do by looking for rows with nulls:"
   ]
  },
  {
   "cell_type": "markdown",
   "metadata": {},
   "source": [
    "## Look for any rows with null values in the new dataframe"
   ]
  },
  {
   "cell_type": "code",
   "execution_count": 36,
   "metadata": {},
   "outputs": [
    {
     "data": {
      "text/plain": [
       "state/region    False\n",
       "ages            False\n",
       "year            False\n",
       "population       True\n",
       "state            True\n",
       "dtype: bool"
      ]
     },
     "execution_count": 36,
     "metadata": {},
     "output_type": "execute_result"
    }
   ],
   "source": [
    "merged.isnull().any()"
   ]
  },
  {
   "cell_type": "markdown",
   "metadata": {},
   "source": [
    "## Print out the rows in the merged dataframe that has null values for population."
   ]
  },
  {
   "cell_type": "markdown",
   "metadata": {},
   "source": [
    "It appears that all the null population values are from Puerto Rico prior to the year 2000; this is likely due to this data not being available from the original source.\n",
    "\n",
    "More importantly, we see also that some of the new ``state`` entries are also null, which means that there was no corresponding entry in the ``abbrevs`` key!\n",
    "Let's figure out which regions lack this match:"
   ]
  },
  {
   "cell_type": "code",
   "execution_count": 37,
   "metadata": {},
   "outputs": [
    {
     "data": {
      "text/plain": [
       "array(['PR', 'USA'], dtype=object)"
      ]
     },
     "execution_count": 37,
     "metadata": {},
     "output_type": "execute_result"
    }
   ],
   "source": [
    "merged.loc[merged['state'].isnull(), 'state/region'].unique()"
   ]
  },
  {
   "cell_type": "markdown",
   "metadata": {},
   "source": [
    "We can quickly infer the issue: our population data includes entries for Puerto Rico (PR) and the United States as a whole (USA), while these entries do not appear in the state abbreviation key.\n",
    "We can fix these quickly by filling in appropriate entries:"
   ]
  },
  {
   "cell_type": "code",
   "execution_count": 38,
   "metadata": {},
   "outputs": [
    {
     "data": {
      "text/plain": [
       "state/region    False\n",
       "ages            False\n",
       "year            False\n",
       "population       True\n",
       "state           False\n",
       "dtype: bool"
      ]
     },
     "execution_count": 38,
     "metadata": {},
     "output_type": "execute_result"
    }
   ],
   "source": [
    "merged.loc[merged['state/region'] == 'PR', 'state'] = 'Puerto Rico'\n",
    "merged.loc[merged['state/region'] == 'USA', 'state'] = 'United States'\n",
    "merged.isnull().any()"
   ]
  },
  {
   "cell_type": "markdown",
   "metadata": {},
   "source": [
    "No more nulls in the ``state`` column: we're all set!\n",
    "\n",
    "Now we can merge the result with the area data using a similar procedure.\n",
    "Examining our results, we will want to join on the ``state`` column in both:"
   ]
  },
  {
   "cell_type": "code",
   "execution_count": 48,
   "metadata": {},
   "outputs": [
    {
     "data": {
      "text/html": [
       "<div>\n",
       "<style scoped>\n",
       "    .dataframe tbody tr th:only-of-type {\n",
       "        vertical-align: middle;\n",
       "    }\n",
       "\n",
       "    .dataframe tbody tr th {\n",
       "        vertical-align: top;\n",
       "    }\n",
       "\n",
       "    .dataframe thead th {\n",
       "        text-align: right;\n",
       "    }\n",
       "</style>\n",
       "<table border=\"1\" class=\"dataframe\">\n",
       "  <thead>\n",
       "    <tr style=\"text-align: right;\">\n",
       "      <th></th>\n",
       "      <th>state/region</th>\n",
       "      <th>ages</th>\n",
       "      <th>year</th>\n",
       "      <th>population</th>\n",
       "      <th>state</th>\n",
       "      <th>area (sq. mi)</th>\n",
       "    </tr>\n",
       "  </thead>\n",
       "  <tbody>\n",
       "    <tr>\n",
       "      <th>0</th>\n",
       "      <td>AL</td>\n",
       "      <td>under18</td>\n",
       "      <td>2012</td>\n",
       "      <td>1117489.0</td>\n",
       "      <td>Alabama</td>\n",
       "      <td>52423.0</td>\n",
       "    </tr>\n",
       "    <tr>\n",
       "      <th>1</th>\n",
       "      <td>AL</td>\n",
       "      <td>total</td>\n",
       "      <td>2012</td>\n",
       "      <td>4817528.0</td>\n",
       "      <td>Alabama</td>\n",
       "      <td>52423.0</td>\n",
       "    </tr>\n",
       "    <tr>\n",
       "      <th>2</th>\n",
       "      <td>AL</td>\n",
       "      <td>under18</td>\n",
       "      <td>2010</td>\n",
       "      <td>1130966.0</td>\n",
       "      <td>Alabama</td>\n",
       "      <td>52423.0</td>\n",
       "    </tr>\n",
       "    <tr>\n",
       "      <th>3</th>\n",
       "      <td>AL</td>\n",
       "      <td>total</td>\n",
       "      <td>2010</td>\n",
       "      <td>4785570.0</td>\n",
       "      <td>Alabama</td>\n",
       "      <td>52423.0</td>\n",
       "    </tr>\n",
       "    <tr>\n",
       "      <th>4</th>\n",
       "      <td>AL</td>\n",
       "      <td>under18</td>\n",
       "      <td>2011</td>\n",
       "      <td>1125763.0</td>\n",
       "      <td>Alabama</td>\n",
       "      <td>52423.0</td>\n",
       "    </tr>\n",
       "  </tbody>\n",
       "</table>\n",
       "</div>"
      ],
      "text/plain": [
       "  state/region     ages  year  population    state  area (sq. mi)\n",
       "0           AL  under18  2012   1117489.0  Alabama        52423.0\n",
       "1           AL    total  2012   4817528.0  Alabama        52423.0\n",
       "2           AL  under18  2010   1130966.0  Alabama        52423.0\n",
       "3           AL    total  2010   4785570.0  Alabama        52423.0\n",
       "4           AL  under18  2011   1125763.0  Alabama        52423.0"
      ]
     },
     "execution_count": 48,
     "metadata": {},
     "output_type": "execute_result"
    }
   ],
   "source": [
    "final = pd.merge(merged, areas, on='state', how='left')\n",
    "final.head()"
   ]
  },
  {
   "cell_type": "markdown",
   "metadata": {},
   "source": [
    "## Repeat the process of checking for nulls in the area field for each state in the merged dataframe and deal with them appropriately."
   ]
  },
  {
   "cell_type": "code",
   "execution_count": 49,
   "metadata": {},
   "outputs": [
    {
     "data": {
      "text/plain": [
       "state/region     False\n",
       "ages             False\n",
       "year             False\n",
       "population        True\n",
       "state            False\n",
       "area (sq. mi)     True\n",
       "dtype: bool"
      ]
     },
     "execution_count": 49,
     "metadata": {},
     "output_type": "execute_result"
    }
   ],
   "source": [
    "final.isnull().any()"
   ]
  },
  {
   "cell_type": "markdown",
   "metadata": {},
   "source": [
    "## Select the portion of the data corresponding with the year 2000, and the total population."
   ]
  },
  {
   "cell_type": "code",
   "execution_count": 50,
   "metadata": {},
   "outputs": [
    {
     "data": {
      "text/plain": [
       "28        4452173.0\n",
       "29        1122273.0\n",
       "68         627963.0\n",
       "69         190615.0\n",
       "124       5160586.0\n",
       "125       1373414.0\n",
       "162       2678588.0\n",
       "163        680378.0\n",
       "220      33987977.0\n",
       "221       9267089.0\n",
       "258       4326921.0\n",
       "259       1106676.0\n",
       "316       3411777.0\n",
       "317        842242.0\n",
       "354        786373.0\n",
       "355        194914.0\n",
       "412        572046.0\n",
       "413        114503.0\n",
       "452      16047515.0\n",
       "453       3654880.0\n",
       "508       8227303.0\n",
       "509       2176576.0\n",
       "546       1213519.0\n",
       "547        295352.0\n",
       "604       1299430.0\n",
       "605        370430.0\n",
       "642      12434161.0\n",
       "643       3244944.0\n",
       "700       6091866.0\n",
       "701       1574989.0\n",
       "           ...     \n",
       "1852     12284173.0\n",
       "1853      2918850.0\n",
       "1890      1050268.0\n",
       "1891       248065.0\n",
       "1948      4024223.0\n",
       "1949      1010641.0\n",
       "1986       755844.0\n",
       "1987       202681.0\n",
       "2044      5703719.0\n",
       "2045      1399685.0\n",
       "2082     20944499.0\n",
       "2083      5906301.0\n",
       "2140      2244502.0\n",
       "2141       721686.0\n",
       "2178       609618.0\n",
       "2179       147549.0\n",
       "2236      7105817.0\n",
       "2237      1741420.0\n",
       "2274      5910512.0\n",
       "2275      1516361.0\n",
       "2332      1807021.0\n",
       "2333       401062.0\n",
       "2372      5373999.0\n",
       "2373      1370440.0\n",
       "2426       494300.0\n",
       "2427       128774.0\n",
       "2468      3810605.0\n",
       "2469      1089063.0\n",
       "2515    282162411.0\n",
       "2516     72376189.0\n",
       "Name: population, Length: 106, dtype: float64"
      ]
     },
     "execution_count": 50,
     "metadata": {},
     "output_type": "execute_result"
    }
   ],
   "source": [
    "newFinal = final.loc[final['year'] == 2000, 'population']\n",
    "newFinal"
   ]
  },
  {
   "cell_type": "markdown",
   "metadata": {},
   "source": [
    "## Re-index the data on state and find population density and display by density in ascending order"
   ]
  },
  {
   "cell_type": "markdown",
   "metadata": {},
   "source": [
    "The result is a ranking of US states plus Washington, DC, and Puerto Rico in order of their 2010 population density, in residents per square mile.\n",
    "We can see that by far the densest region in this dataset is Washington, DC (i.e., the District of Columbia); among states, the densest is New Jersey.\n",
    "\n",
    "We can also check the end of the list:"
   ]
  },
  {
   "cell_type": "markdown",
   "metadata": {},
   "source": [
    "We see that the least dense state, by far, is Alaska, averaging slightly over one resident per square mile.\n",
    "\n",
    "This type of messy data merging is a common task when trying to answer questions using real-world data sources.\n",
    "I hope that this example has given you an idea of the ways you can combine tools we've covered in order to gain insight from your data!"
   ]
  },
  {
   "cell_type": "code",
   "execution_count": 61,
   "metadata": {},
   "outputs": [
    {
     "name": "stderr",
     "output_type": "stream",
     "text": [
      "C:\\Users\\vrshr\\Anaconda3\\lib\\site-packages\\ipykernel_launcher.py:2: SettingWithCopyWarning: \n",
      "A value is trying to be set on a copy of a slice from a DataFrame.\n",
      "Try using .loc[row_indexer,col_indexer] = value instead\n",
      "\n",
      "See the caveats in the documentation: http://pandas.pydata.org/pandas-docs/stable/indexing.html#indexing-view-versus-copy\n",
      "  \n"
     ]
    },
    {
     "data": {
      "text/html": [
       "<div>\n",
       "<style scoped>\n",
       "    .dataframe tbody tr th:only-of-type {\n",
       "        vertical-align: middle;\n",
       "    }\n",
       "\n",
       "    .dataframe tbody tr th {\n",
       "        vertical-align: top;\n",
       "    }\n",
       "\n",
       "    .dataframe thead th {\n",
       "        text-align: right;\n",
       "    }\n",
       "</style>\n",
       "<table border=\"1\" class=\"dataframe\">\n",
       "  <thead>\n",
       "    <tr style=\"text-align: right;\">\n",
       "      <th></th>\n",
       "      <th>year</th>\n",
       "      <th>population</th>\n",
       "      <th>area (sq. mi)</th>\n",
       "      <th>populationDensity</th>\n",
       "    </tr>\n",
       "    <tr>\n",
       "      <th>state</th>\n",
       "      <th></th>\n",
       "      <th></th>\n",
       "      <th></th>\n",
       "      <th></th>\n",
       "    </tr>\n",
       "  </thead>\n",
       "  <tbody>\n",
       "    <tr>\n",
       "      <th>United States</th>\n",
       "      <td>4020</td>\n",
       "      <td>383445851.0</td>\n",
       "      <td>0.0</td>\n",
       "      <td>0.000000</td>\n",
       "    </tr>\n",
       "    <tr>\n",
       "      <th>Alaska</th>\n",
       "      <td>4020</td>\n",
       "      <td>901770.0</td>\n",
       "      <td>1312850.0</td>\n",
       "      <td>1.373759</td>\n",
       "    </tr>\n",
       "    <tr>\n",
       "      <th>Wyoming</th>\n",
       "      <td>4020</td>\n",
       "      <td>699573.0</td>\n",
       "      <td>195636.0</td>\n",
       "      <td>7.151782</td>\n",
       "    </tr>\n",
       "    <tr>\n",
       "      <th>Montana</th>\n",
       "      <td>4020</td>\n",
       "      <td>1213819.0</td>\n",
       "      <td>294092.0</td>\n",
       "      <td>8.254689</td>\n",
       "    </tr>\n",
       "    <tr>\n",
       "      <th>North Dakota</th>\n",
       "      <td>4020</td>\n",
       "      <td>824523.0</td>\n",
       "      <td>141408.0</td>\n",
       "      <td>11.661617</td>\n",
       "    </tr>\n",
       "    <tr>\n",
       "      <th>South Dakota</th>\n",
       "      <td>4020</td>\n",
       "      <td>1019356.0</td>\n",
       "      <td>154242.0</td>\n",
       "      <td>13.217619</td>\n",
       "    </tr>\n",
       "    <tr>\n",
       "      <th>New Mexico</th>\n",
       "      <td>4020</td>\n",
       "      <td>2583745.0</td>\n",
       "      <td>243186.0</td>\n",
       "      <td>21.249126</td>\n",
       "    </tr>\n",
       "    <tr>\n",
       "      <th>Idaho</th>\n",
       "      <td>4020</td>\n",
       "      <td>1999679.0</td>\n",
       "      <td>167148.0</td>\n",
       "      <td>23.927047</td>\n",
       "    </tr>\n",
       "    <tr>\n",
       "      <th>Nebraska</th>\n",
       "      <td>4020</td>\n",
       "      <td>2289459.0</td>\n",
       "      <td>154716.0</td>\n",
       "      <td>29.595633</td>\n",
       "    </tr>\n",
       "    <tr>\n",
       "      <th>Nevada</th>\n",
       "      <td>4020</td>\n",
       "      <td>3366410.0</td>\n",
       "      <td>221134.0</td>\n",
       "      <td>30.446788</td>\n",
       "    </tr>\n",
       "    <tr>\n",
       "      <th>Utah</th>\n",
       "      <td>4020</td>\n",
       "      <td>3647443.0</td>\n",
       "      <td>169808.0</td>\n",
       "      <td>42.959613</td>\n",
       "    </tr>\n",
       "    <tr>\n",
       "      <th>Kansas</th>\n",
       "      <td>4020</td>\n",
       "      <td>3586639.0</td>\n",
       "      <td>164564.0</td>\n",
       "      <td>43.589594</td>\n",
       "    </tr>\n",
       "    <tr>\n",
       "      <th>Maine</th>\n",
       "      <td>4020</td>\n",
       "      <td>1600427.0</td>\n",
       "      <td>70774.0</td>\n",
       "      <td>45.226411</td>\n",
       "    </tr>\n",
       "    <tr>\n",
       "      <th>Oregon</th>\n",
       "      <td>4020</td>\n",
       "      <td>4702337.0</td>\n",
       "      <td>196772.0</td>\n",
       "      <td>47.794778</td>\n",
       "    </tr>\n",
       "    <tr>\n",
       "      <th>Colorado</th>\n",
       "      <td>4020</td>\n",
       "      <td>6274815.0</td>\n",
       "      <td>208200.0</td>\n",
       "      <td>60.276801</td>\n",
       "    </tr>\n",
       "    <tr>\n",
       "      <th>Oklahoma</th>\n",
       "      <td>4020</td>\n",
       "      <td>4690746.0</td>\n",
       "      <td>139806.0</td>\n",
       "      <td>67.103644</td>\n",
       "    </tr>\n",
       "    <tr>\n",
       "      <th>Iowa</th>\n",
       "      <td>4020</td>\n",
       "      <td>3778031.0</td>\n",
       "      <td>112552.0</td>\n",
       "      <td>67.133965</td>\n",
       "    </tr>\n",
       "    <tr>\n",
       "      <th>Arkansas</th>\n",
       "      <td>4020</td>\n",
       "      <td>3634227.0</td>\n",
       "      <td>106364.0</td>\n",
       "      <td>68.335659</td>\n",
       "    </tr>\n",
       "    <tr>\n",
       "      <th>Arizona</th>\n",
       "      <td>4020</td>\n",
       "      <td>8037353.0</td>\n",
       "      <td>228012.0</td>\n",
       "      <td>70.499386</td>\n",
       "    </tr>\n",
       "    <tr>\n",
       "      <th>Minnesota</th>\n",
       "      <td>4020</td>\n",
       "      <td>6593030.0</td>\n",
       "      <td>173886.0</td>\n",
       "      <td>75.831637</td>\n",
       "    </tr>\n",
       "    <tr>\n",
       "      <th>Mississippi</th>\n",
       "      <td>4020</td>\n",
       "      <td>3724158.0</td>\n",
       "      <td>96868.0</td>\n",
       "      <td>76.891399</td>\n",
       "    </tr>\n",
       "    <tr>\n",
       "      <th>Vermont</th>\n",
       "      <td>4020</td>\n",
       "      <td>754394.0</td>\n",
       "      <td>19230.0</td>\n",
       "      <td>78.460114</td>\n",
       "    </tr>\n",
       "    <tr>\n",
       "      <th>West Virginia</th>\n",
       "      <td>4020</td>\n",
       "      <td>2241370.0</td>\n",
       "      <td>48462.0</td>\n",
       "      <td>92.500103</td>\n",
       "    </tr>\n",
       "    <tr>\n",
       "      <th>Missouri</th>\n",
       "      <td>4020</td>\n",
       "      <td>7420105.0</td>\n",
       "      <td>139418.0</td>\n",
       "      <td>106.444003</td>\n",
       "    </tr>\n",
       "    <tr>\n",
       "      <th>Wisconsin</th>\n",
       "      <td>4020</td>\n",
       "      <td>7025154.0</td>\n",
       "      <td>131006.0</td>\n",
       "      <td>107.249347</td>\n",
       "    </tr>\n",
       "    <tr>\n",
       "      <th>Louisiana</th>\n",
       "      <td>4020</td>\n",
       "      <td>5663968.0</td>\n",
       "      <td>103686.0</td>\n",
       "      <td>109.252320</td>\n",
       "    </tr>\n",
       "    <tr>\n",
       "      <th>Alabama</th>\n",
       "      <td>4020</td>\n",
       "      <td>5916536.0</td>\n",
       "      <td>104846.0</td>\n",
       "      <td>112.861454</td>\n",
       "    </tr>\n",
       "    <tr>\n",
       "      <th>Washington</th>\n",
       "      <td>4020</td>\n",
       "      <td>8323692.0</td>\n",
       "      <td>142606.0</td>\n",
       "      <td>116.736911</td>\n",
       "    </tr>\n",
       "    <tr>\n",
       "      <th>Texas</th>\n",
       "      <td>4020</td>\n",
       "      <td>32124192.0</td>\n",
       "      <td>537202.0</td>\n",
       "      <td>119.598185</td>\n",
       "    </tr>\n",
       "    <tr>\n",
       "      <th>Michigan</th>\n",
       "      <td>4020</td>\n",
       "      <td>12209270.0</td>\n",
       "      <td>193620.0</td>\n",
       "      <td>126.115794</td>\n",
       "    </tr>\n",
       "    <tr>\n",
       "      <th>Kentucky</th>\n",
       "      <td>4020</td>\n",
       "      <td>5371377.0</td>\n",
       "      <td>80822.0</td>\n",
       "      <td>132.918686</td>\n",
       "    </tr>\n",
       "    <tr>\n",
       "      <th>Hawaii</th>\n",
       "      <td>4020</td>\n",
       "      <td>1667543.0</td>\n",
       "      <td>21864.0</td>\n",
       "      <td>152.537779</td>\n",
       "    </tr>\n",
       "    <tr>\n",
       "      <th>New Hampshire</th>\n",
       "      <td>4020</td>\n",
       "      <td>1602316.0</td>\n",
       "      <td>18702.0</td>\n",
       "      <td>171.352369</td>\n",
       "    </tr>\n",
       "    <tr>\n",
       "      <th>South Carolina</th>\n",
       "      <td>4020</td>\n",
       "      <td>5716339.0</td>\n",
       "      <td>64014.0</td>\n",
       "      <td>178.596526</td>\n",
       "    </tr>\n",
       "    <tr>\n",
       "      <th>Tennessee</th>\n",
       "      <td>4020</td>\n",
       "      <td>7851773.0</td>\n",
       "      <td>84292.0</td>\n",
       "      <td>186.299364</td>\n",
       "    </tr>\n",
       "    <tr>\n",
       "      <th>Georgia</th>\n",
       "      <td>4020</td>\n",
       "      <td>12204132.0</td>\n",
       "      <td>118882.0</td>\n",
       "      <td>205.315052</td>\n",
       "    </tr>\n",
       "    <tr>\n",
       "      <th>North Carolina</th>\n",
       "      <td>4020</td>\n",
       "      <td>11841821.0</td>\n",
       "      <td>107642.0</td>\n",
       "      <td>220.022315</td>\n",
       "    </tr>\n",
       "    <tr>\n",
       "      <th>Indiana</th>\n",
       "      <td>4020</td>\n",
       "      <td>8095848.0</td>\n",
       "      <td>72840.0</td>\n",
       "      <td>222.291269</td>\n",
       "    </tr>\n",
       "    <tr>\n",
       "      <th>Virginia</th>\n",
       "      <td>4020</td>\n",
       "      <td>9879442.0</td>\n",
       "      <td>85538.0</td>\n",
       "      <td>230.995394</td>\n",
       "    </tr>\n",
       "    <tr>\n",
       "      <th>Illinois</th>\n",
       "      <td>4020</td>\n",
       "      <td>15961787.0</td>\n",
       "      <td>115836.0</td>\n",
       "      <td>275.592855</td>\n",
       "    </tr>\n",
       "    <tr>\n",
       "      <th>California</th>\n",
       "      <td>4020</td>\n",
       "      <td>46617695.0</td>\n",
       "      <td>327414.0</td>\n",
       "      <td>284.762991</td>\n",
       "    </tr>\n",
       "    <tr>\n",
       "      <th>Ohio</th>\n",
       "      <td>4020</td>\n",
       "      <td>14268024.0</td>\n",
       "      <td>89656.0</td>\n",
       "      <td>318.283751</td>\n",
       "    </tr>\n",
       "    <tr>\n",
       "      <th>Pennsylvania</th>\n",
       "      <td>4020</td>\n",
       "      <td>15495788.0</td>\n",
       "      <td>92116.0</td>\n",
       "      <td>336.440749</td>\n",
       "    </tr>\n",
       "    <tr>\n",
       "      <th>Florida</th>\n",
       "      <td>4020</td>\n",
       "      <td>22845586.0</td>\n",
       "      <td>131516.0</td>\n",
       "      <td>347.419113</td>\n",
       "    </tr>\n",
       "    <tr>\n",
       "      <th>New York</th>\n",
       "      <td>4020</td>\n",
       "      <td>23716261.0</td>\n",
       "      <td>108950.0</td>\n",
       "      <td>435.360459</td>\n",
       "    </tr>\n",
       "    <tr>\n",
       "      <th>Delaware</th>\n",
       "      <td>4020</td>\n",
       "      <td>1105189.0</td>\n",
       "      <td>3908.0</td>\n",
       "      <td>565.603378</td>\n",
       "    </tr>\n",
       "    <tr>\n",
       "      <th>Maryland</th>\n",
       "      <td>4020</td>\n",
       "      <td>7139176.0</td>\n",
       "      <td>24814.0</td>\n",
       "      <td>575.415169</td>\n",
       "    </tr>\n",
       "    <tr>\n",
       "      <th>Massachusetts</th>\n",
       "      <td>4020</td>\n",
       "      <td>7979225.0</td>\n",
       "      <td>21110.0</td>\n",
       "      <td>755.966367</td>\n",
       "    </tr>\n",
       "    <tr>\n",
       "      <th>Connecticut</th>\n",
       "      <td>4020</td>\n",
       "      <td>4393397.0</td>\n",
       "      <td>11088.0</td>\n",
       "      <td>792.459776</td>\n",
       "    </tr>\n",
       "    <tr>\n",
       "      <th>Rhode Island</th>\n",
       "      <td>4020</td>\n",
       "      <td>1275757.0</td>\n",
       "      <td>3090.0</td>\n",
       "      <td>825.732686</td>\n",
       "    </tr>\n",
       "    <tr>\n",
       "      <th>New Jersey</th>\n",
       "      <td>4020</td>\n",
       "      <td>10864720.0</td>\n",
       "      <td>17444.0</td>\n",
       "      <td>1245.668425</td>\n",
       "    </tr>\n",
       "    <tr>\n",
       "      <th>Puerto Rico</th>\n",
       "      <td>4020</td>\n",
       "      <td>4618153.0</td>\n",
       "      <td>7030.0</td>\n",
       "      <td>1313.841536</td>\n",
       "    </tr>\n",
       "    <tr>\n",
       "      <th>District of Columbia</th>\n",
       "      <td>4020</td>\n",
       "      <td>706434.0</td>\n",
       "      <td>136.0</td>\n",
       "      <td>10388.735294</td>\n",
       "    </tr>\n",
       "  </tbody>\n",
       "</table>\n",
       "</div>"
      ],
      "text/plain": [
       "                      year   population  area (sq. mi)  populationDensity\n",
       "state                                                                    \n",
       "United States         4020  383445851.0            0.0           0.000000\n",
       "Alaska                4020     901770.0      1312850.0           1.373759\n",
       "Wyoming               4020     699573.0       195636.0           7.151782\n",
       "Montana               4020    1213819.0       294092.0           8.254689\n",
       "North Dakota          4020     824523.0       141408.0          11.661617\n",
       "South Dakota          4020    1019356.0       154242.0          13.217619\n",
       "New Mexico            4020    2583745.0       243186.0          21.249126\n",
       "Idaho                 4020    1999679.0       167148.0          23.927047\n",
       "Nebraska              4020    2289459.0       154716.0          29.595633\n",
       "Nevada                4020    3366410.0       221134.0          30.446788\n",
       "Utah                  4020    3647443.0       169808.0          42.959613\n",
       "Kansas                4020    3586639.0       164564.0          43.589594\n",
       "Maine                 4020    1600427.0        70774.0          45.226411\n",
       "Oregon                4020    4702337.0       196772.0          47.794778\n",
       "Colorado              4020    6274815.0       208200.0          60.276801\n",
       "Oklahoma              4020    4690746.0       139806.0          67.103644\n",
       "Iowa                  4020    3778031.0       112552.0          67.133965\n",
       "Arkansas              4020    3634227.0       106364.0          68.335659\n",
       "Arizona               4020    8037353.0       228012.0          70.499386\n",
       "Minnesota             4020    6593030.0       173886.0          75.831637\n",
       "Mississippi           4020    3724158.0        96868.0          76.891399\n",
       "Vermont               4020     754394.0        19230.0          78.460114\n",
       "West Virginia         4020    2241370.0        48462.0          92.500103\n",
       "Missouri              4020    7420105.0       139418.0         106.444003\n",
       "Wisconsin             4020    7025154.0       131006.0         107.249347\n",
       "Louisiana             4020    5663968.0       103686.0         109.252320\n",
       "Alabama               4020    5916536.0       104846.0         112.861454\n",
       "Washington            4020    8323692.0       142606.0         116.736911\n",
       "Texas                 4020   32124192.0       537202.0         119.598185\n",
       "Michigan              4020   12209270.0       193620.0         126.115794\n",
       "Kentucky              4020    5371377.0        80822.0         132.918686\n",
       "Hawaii                4020    1667543.0        21864.0         152.537779\n",
       "New Hampshire         4020    1602316.0        18702.0         171.352369\n",
       "South Carolina        4020    5716339.0        64014.0         178.596526\n",
       "Tennessee             4020    7851773.0        84292.0         186.299364\n",
       "Georgia               4020   12204132.0       118882.0         205.315052\n",
       "North Carolina        4020   11841821.0       107642.0         220.022315\n",
       "Indiana               4020    8095848.0        72840.0         222.291269\n",
       "Virginia              4020    9879442.0        85538.0         230.995394\n",
       "Illinois              4020   15961787.0       115836.0         275.592855\n",
       "California            4020   46617695.0       327414.0         284.762991\n",
       "Ohio                  4020   14268024.0        89656.0         318.283751\n",
       "Pennsylvania          4020   15495788.0        92116.0         336.440749\n",
       "Florida               4020   22845586.0       131516.0         347.419113\n",
       "New York              4020   23716261.0       108950.0         435.360459\n",
       "Delaware              4020    1105189.0         3908.0         565.603378\n",
       "Maryland              4020    7139176.0        24814.0         575.415169\n",
       "Massachusetts         4020    7979225.0        21110.0         755.966367\n",
       "Connecticut           4020    4393397.0        11088.0         792.459776\n",
       "Rhode Island          4020    1275757.0         3090.0         825.732686\n",
       "New Jersey            4020   10864720.0        17444.0        1245.668425\n",
       "Puerto Rico           4020    4618153.0         7030.0        1313.841536\n",
       "District of Columbia  4020     706434.0          136.0       10388.735294"
      ]
     },
     "execution_count": 61,
     "metadata": {},
     "output_type": "execute_result"
    }
   ],
   "source": [
    "c = final.loc[final['year'] == 2010]\n",
    "c['populationDensity'] = c['population']/c['area (sq. mi)']\n",
    "c = c.groupby('state').sum().sort_values('populationDensity', ascending=True)\n",
    "c"
   ]
  },
  {
   "cell_type": "code",
   "execution_count": null,
   "metadata": {},
   "outputs": [],
   "source": []
  }
 ],
 "metadata": {
  "anaconda-cloud": {},
  "kernelspec": {
   "display_name": "Python 3",
   "language": "python",
   "name": "python3"
  },
  "language_info": {
   "codemirror_mode": {
    "name": "ipython",
    "version": 3
   },
   "file_extension": ".py",
   "mimetype": "text/x-python",
   "name": "python",
   "nbconvert_exporter": "python",
   "pygments_lexer": "ipython3",
   "version": "3.7.3"
  }
 },
 "nbformat": 4,
 "nbformat_minor": 1
}
